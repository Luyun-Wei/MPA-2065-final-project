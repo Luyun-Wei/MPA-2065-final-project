{
 "cells": [
  {
   "cell_type": "markdown",
   "id": "fa2e5dad-327a-49aa-a03a-a2f40f6df356",
   "metadata": {},
   "source": [
    "## The impact of climate change on securities market"
   ]
  },
  {
   "cell_type": "markdown",
   "id": "cf48240c-0854-4b32-aec6-203b18e313c1",
   "metadata": {},
   "source": [
    "## Data Collation and Cleaning"
   ]
  },
  {
   "cell_type": "code",
   "execution_count": 5,
   "id": "d7f500d0-1468-4789-9496-c3055df31f46",
   "metadata": {
    "tags": []
   },
   "outputs": [
    {
     "name": "stderr",
     "output_type": "stream",
     "text": [
      "\n",
      "Attaching package: ‘dplyr’\n",
      "\n",
      "\n",
      "The following objects are masked from ‘package:stats’:\n",
      "\n",
      "    filter, lag\n",
      "\n",
      "\n",
      "The following objects are masked from ‘package:base’:\n",
      "\n",
      "    intersect, setdiff, setequal, union\n",
      "\n",
      "\n",
      "Warning message in system(\"timedatectl\", intern = TRUE):\n",
      "“running command 'timedatectl' had status 1”\n",
      "\n",
      "Attaching package: ‘lubridate’\n",
      "\n",
      "\n",
      "The following objects are masked from ‘package:base’:\n",
      "\n",
      "    date, intersect, setdiff, union\n",
      "\n",
      "\n"
     ]
    }
   ],
   "source": [
    "library(dplyr)\n",
    "library(lubridate)"
   ]
  },
  {
   "cell_type": "code",
   "execution_count": 65,
   "id": "85344be6-dcee-43d0-a89a-e326e30a8ae1",
   "metadata": {
    "tags": []
   },
   "outputs": [],
   "source": [
    "# Change all data in year scale\n",
    "# 1. Change CPU time scale\n",
    "cpu_df <- read.csv(\"data/CPU index.csv\")     \n",
    "# Extract year and month from the Date variable\n",
    "cpu_df$date <- as.Date(cpu_df$date, format = \"%Y/%m/%d\")\n",
    "time_cpu_df <- cpu_df %>%\n",
    "mutate(Year = year(date))\n",
    "# change month scale to year scale using mean method \n",
    "time_cpu_df_yearly <- time_cpu_df %>%\n",
    "  group_by(Year) %>%\n",
    "  summarise(\n",
    "    Mean_cpu_index = mean(cpu_index)\n",
    "  )\n",
    "#time_cpu_df_yearly"
   ]
  },
  {
   "cell_type": "code",
   "execution_count": 67,
   "id": "a1421e9f-ce85-4278-8c7e-e41205e976d7",
   "metadata": {
    "tags": []
   },
   "outputs": [],
   "source": [
    "# 2. Change SPGC index time scale\n",
    "SPGC_df <- read.csv(\"data/S&P Global Clean Energy Index.csv\")     \n",
    "# Extract year and month from the Date variable\n",
    "SPGC_df$Effective.date <- as.Date(SPGC_df$Effective.date, format = \"%Y/%m/%d\")\n",
    "time_SPGC_df <- SPGC_df %>%\n",
    "mutate(Year = year(Effective.date))\n",
    "# change day scale to year scale using mean method \n",
    "SPGC_df_yearly <- time_SPGC_df %>%\n",
    "  group_by(Year) %>%\n",
    "  summarise(\n",
    "    Mean_SPGC = mean(SPGC.Index)\n",
    "  )\n",
    "#head(SPGC_df_yearly)"
   ]
  },
  {
   "cell_type": "code",
   "execution_count": 68,
   "id": "3cce6c31-591a-40c1-8f8a-0c89cf3fd40a",
   "metadata": {
    "tags": []
   },
   "outputs": [],
   "source": [
    "# 3. Change SPGC index time scale\n",
    "SPGB_df <- read.csv(\"data/S&P Green Bond Select Index.csv\")     \n",
    "# Extract year and month from the Date variable\n",
    "SPGB_df$Effective.date <- as.Date(SPGB_df$Effective.date, format = \"%Y/%m/%d\")\n",
    "time_SPGB_df <- SPGB_df %>%\n",
    "mutate(Year = year(Effective.date))\n",
    "# change day scale to year scale using mean method \n",
    "SPGB_df_yearly <- time_SPGB_df %>%\n",
    "  group_by(Year) %>%\n",
    "  summarise(\n",
    "    Mean_SPGB = mean(SPGB.index)\n",
    "  )\n",
    "#head(SPGB_df_yearly)"
   ]
  },
  {
   "cell_type": "code",
   "execution_count": 69,
   "id": "93be8ff0-6688-4dc2-8bc3-ae91bc0b99f4",
   "metadata": {
    "tags": []
   },
   "outputs": [],
   "source": [
    "# 4. Change SPGC index time scale\n",
    "DJSI_df <- read.csv(\"data/Dow Jones Sustainability U.S. Composite Index.csv\")     \n",
    "# Extract year and month from the Date variable\n",
    "DJSI_df$Effective.date <- as.Date(DJSI_df$Effective.date, format = \"%Y/%m/%d\")\n",
    "time_DJSI_df <- DJSI_df %>%\n",
    "mutate(Year = year(Effective.date))\n",
    "# change day scale to year scale using mean method \n",
    "DJSI_df_yearly <- time_DJSI_df %>%\n",
    "  group_by(Year) %>%\n",
    "  summarise(\n",
    "    Mean_DJSI = mean(DJSI)\n",
    "  )\n",
    "#head(DJSI_df_yearly)"
   ]
  },
  {
   "cell_type": "code",
   "execution_count": 70,
   "id": "3cd16b56-7324-4d55-b049-d0bb0781e05b",
   "metadata": {
    "tags": []
   },
   "outputs": [],
   "source": [
    "# Extract Co2 data from dataset\n",
    "co2_df <- read.csv(\"data/owid-co2-data.csv\")     \n",
    "extract_co2_df <- co2_df %>%\n",
    "  filter(\n",
    "        iso_code == \"USA\",\n",
    "        year > 2000,\n",
    "    ) %>%\n",
    "    select(\n",
    "        year, \n",
    "        co2,\n",
    "        coal_co2,\n",
    "        flaring_co2,\n",
    "        gas_co2, \n",
    "        oil_co2,\n",
    "    )\n",
    "colnames(extract_co2_df)[which(colnames(extract_co2_df) == \"year\")] <- \"Year\"\n",
    "extract_co2_df$Year <- as.double(extract_co2_df$Year)\n",
    "#head(extract_co2_df)"
   ]
  },
  {
   "cell_type": "code",
   "execution_count": 64,
   "id": "2826a061-cf8b-4a9c-a4d2-f2decc3c5a25",
   "metadata": {},
   "outputs": [
    {
     "data": {
      "text/html": [
       "<table class=\"dataframe\">\n",
       "<caption>A data.frame: 9 × 10</caption>\n",
       "<thead>\n",
       "\t<tr><th scope=col>Year</th><th scope=col>Mean_SPGB</th><th scope=col>Mean_SPGC</th><th scope=col>Mean_DJSI</th><th scope=col>Mean_cpu_index</th><th scope=col>co2</th><th scope=col>coal_co2</th><th scope=col>flaring_co2</th><th scope=col>gas_co2</th><th scope=col>oil_co2</th></tr>\n",
       "\t<tr><th scope=col>&lt;dbl&gt;</th><th scope=col>&lt;dbl&gt;</th><th scope=col>&lt;dbl&gt;</th><th scope=col>&lt;dbl&gt;</th><th scope=col>&lt;dbl&gt;</th><th scope=col>&lt;dbl&gt;</th><th scope=col>&lt;dbl&gt;</th><th scope=col>&lt;dbl&gt;</th><th scope=col>&lt;dbl&gt;</th><th scope=col>&lt;dbl&gt;</th></tr>\n",
       "</thead>\n",
       "<tbody>\n",
       "\t<tr><td>2013</td><td>152.1630</td><td> 663.2452</td><td>134.4953</td><td> 77.56581</td><td>5480.926</td><td>1720.269</td><td>58.840</td><td>1410.367</td><td>2224.219</td></tr>\n",
       "\t<tr><td>2014</td><td>154.3385</td><td> 692.6129</td><td>144.2318</td><td> 83.16744</td><td>5528.871</td><td>1710.368</td><td>64.171</td><td>1435.020</td><td>2247.448</td></tr>\n",
       "\t<tr><td>2015</td><td>142.6280</td><td> 679.9604</td><td>149.2746</td><td> 92.61451</td><td>5376.578</td><td>1479.001</td><td>65.110</td><td>1475.993</td><td>2285.321</td></tr>\n",
       "\t<tr><td>2016</td><td>145.0608</td><td> 555.6238</td><td>152.0830</td><td>120.71575</td><td>5251.757</td><td>1347.797</td><td>54.557</td><td>1481.713</td><td>2299.607</td></tr>\n",
       "\t<tr><td>2017</td><td>149.7245</td><td> 560.0143</td><td>178.6304</td><td>169.76555</td><td>5210.958</td><td>1308.479</td><td>59.245</td><td>1460.392</td><td>2314.675</td></tr>\n",
       "\t<tr><td>2018</td><td>153.7327</td><td> 580.2783</td><td>201.2271</td><td>143.29059</td><td>5376.657</td><td>1256.202</td><td>72.787</td><td>1618.720</td><td>2365.283</td></tr>\n",
       "\t<tr><td>2019</td><td>157.3768</td><td> 663.3823</td><td>216.0923</td><td>192.00178</td><td>5259.144</td><td>1070.724</td><td>88.383</td><td>1673.999</td><td>2358.831</td></tr>\n",
       "\t<tr><td>2020</td><td>166.8483</td><td> 977.8923</td><td>240.6494</td><td>218.63418</td><td>4715.691</td><td> 878.973</td><td>67.684</td><td>1653.678</td><td>2049.336</td></tr>\n",
       "\t<tr><td>2021</td><td>173.9597</td><td>1536.4553</td><td>317.0802</td><td>215.38402</td><td>5007.336</td><td>1002.300</td><td>67.684</td><td>1637.038</td><td>2233.778</td></tr>\n",
       "</tbody>\n",
       "</table>\n"
      ],
      "text/latex": [
       "A data.frame: 9 × 10\n",
       "\\begin{tabular}{llllllllll}\n",
       " Year & Mean\\_SPGB & Mean\\_SPGC & Mean\\_DJSI & Mean\\_cpu\\_index & co2 & coal\\_co2 & flaring\\_co2 & gas\\_co2 & oil\\_co2\\\\\n",
       " <dbl> & <dbl> & <dbl> & <dbl> & <dbl> & <dbl> & <dbl> & <dbl> & <dbl> & <dbl>\\\\\n",
       "\\hline\n",
       "\t 2013 & 152.1630 &  663.2452 & 134.4953 &  77.56581 & 5480.926 & 1720.269 & 58.840 & 1410.367 & 2224.219\\\\\n",
       "\t 2014 & 154.3385 &  692.6129 & 144.2318 &  83.16744 & 5528.871 & 1710.368 & 64.171 & 1435.020 & 2247.448\\\\\n",
       "\t 2015 & 142.6280 &  679.9604 & 149.2746 &  92.61451 & 5376.578 & 1479.001 & 65.110 & 1475.993 & 2285.321\\\\\n",
       "\t 2016 & 145.0608 &  555.6238 & 152.0830 & 120.71575 & 5251.757 & 1347.797 & 54.557 & 1481.713 & 2299.607\\\\\n",
       "\t 2017 & 149.7245 &  560.0143 & 178.6304 & 169.76555 & 5210.958 & 1308.479 & 59.245 & 1460.392 & 2314.675\\\\\n",
       "\t 2018 & 153.7327 &  580.2783 & 201.2271 & 143.29059 & 5376.657 & 1256.202 & 72.787 & 1618.720 & 2365.283\\\\\n",
       "\t 2019 & 157.3768 &  663.3823 & 216.0923 & 192.00178 & 5259.144 & 1070.724 & 88.383 & 1673.999 & 2358.831\\\\\n",
       "\t 2020 & 166.8483 &  977.8923 & 240.6494 & 218.63418 & 4715.691 &  878.973 & 67.684 & 1653.678 & 2049.336\\\\\n",
       "\t 2021 & 173.9597 & 1536.4553 & 317.0802 & 215.38402 & 5007.336 & 1002.300 & 67.684 & 1637.038 & 2233.778\\\\\n",
       "\\end{tabular}\n"
      ],
      "text/markdown": [
       "\n",
       "A data.frame: 9 × 10\n",
       "\n",
       "| Year &lt;dbl&gt; | Mean_SPGB &lt;dbl&gt; | Mean_SPGC &lt;dbl&gt; | Mean_DJSI &lt;dbl&gt; | Mean_cpu_index &lt;dbl&gt; | co2 &lt;dbl&gt; | coal_co2 &lt;dbl&gt; | flaring_co2 &lt;dbl&gt; | gas_co2 &lt;dbl&gt; | oil_co2 &lt;dbl&gt; |\n",
       "|---|---|---|---|---|---|---|---|---|---|\n",
       "| 2013 | 152.1630 |  663.2452 | 134.4953 |  77.56581 | 5480.926 | 1720.269 | 58.840 | 1410.367 | 2224.219 |\n",
       "| 2014 | 154.3385 |  692.6129 | 144.2318 |  83.16744 | 5528.871 | 1710.368 | 64.171 | 1435.020 | 2247.448 |\n",
       "| 2015 | 142.6280 |  679.9604 | 149.2746 |  92.61451 | 5376.578 | 1479.001 | 65.110 | 1475.993 | 2285.321 |\n",
       "| 2016 | 145.0608 |  555.6238 | 152.0830 | 120.71575 | 5251.757 | 1347.797 | 54.557 | 1481.713 | 2299.607 |\n",
       "| 2017 | 149.7245 |  560.0143 | 178.6304 | 169.76555 | 5210.958 | 1308.479 | 59.245 | 1460.392 | 2314.675 |\n",
       "| 2018 | 153.7327 |  580.2783 | 201.2271 | 143.29059 | 5376.657 | 1256.202 | 72.787 | 1618.720 | 2365.283 |\n",
       "| 2019 | 157.3768 |  663.3823 | 216.0923 | 192.00178 | 5259.144 | 1070.724 | 88.383 | 1673.999 | 2358.831 |\n",
       "| 2020 | 166.8483 |  977.8923 | 240.6494 | 218.63418 | 4715.691 |  878.973 | 67.684 | 1653.678 | 2049.336 |\n",
       "| 2021 | 173.9597 | 1536.4553 | 317.0802 | 215.38402 | 5007.336 | 1002.300 | 67.684 | 1637.038 | 2233.778 |\n",
       "\n"
      ],
      "text/plain": [
       "  Year Mean_SPGB Mean_SPGC Mean_DJSI Mean_cpu_index co2      coal_co2\n",
       "1 2013 152.1630   663.2452 134.4953   77.56581      5480.926 1720.269\n",
       "2 2014 154.3385   692.6129 144.2318   83.16744      5528.871 1710.368\n",
       "3 2015 142.6280   679.9604 149.2746   92.61451      5376.578 1479.001\n",
       "4 2016 145.0608   555.6238 152.0830  120.71575      5251.757 1347.797\n",
       "5 2017 149.7245   560.0143 178.6304  169.76555      5210.958 1308.479\n",
       "6 2018 153.7327   580.2783 201.2271  143.29059      5376.657 1256.202\n",
       "7 2019 157.3768   663.3823 216.0923  192.00178      5259.144 1070.724\n",
       "8 2020 166.8483   977.8923 240.6494  218.63418      4715.691  878.973\n",
       "9 2021 173.9597  1536.4553 317.0802  215.38402      5007.336 1002.300\n",
       "  flaring_co2 gas_co2  oil_co2 \n",
       "1 58.840      1410.367 2224.219\n",
       "2 64.171      1435.020 2247.448\n",
       "3 65.110      1475.993 2285.321\n",
       "4 54.557      1481.713 2299.607\n",
       "5 59.245      1460.392 2314.675\n",
       "6 72.787      1618.720 2365.283\n",
       "7 88.383      1673.999 2358.831\n",
       "8 67.684      1653.678 2049.336\n",
       "9 67.684      1637.038 2233.778"
      ]
     },
     "metadata": {},
     "output_type": "display_data"
    }
   ],
   "source": [
    "# collecting all data in one file with time(year)\n",
    "merged_df_1 <- merge(SPGB_df_yearly, SPGC_df_yearly, by = \"Year\")\n",
    "merged_df_2 <- merge(merged_df_1, DJSI_df_yearly, by = \"Year\")\n",
    "merged_df_3 <- merge(merged_df_2, time_cpu_df_yearly, by = \"Year\", all = TRUE)\n",
    "merged_df <- merge(merged_df_3, extract_co2_df, by = \"Year\")\n",
    "research_df <- merged_df %>%\n",
    "   filter(\n",
    "        Year > 2012\n",
    "    ) \n",
    "research_df\n"
   ]
  },
  {
   "cell_type": "markdown",
   "id": "cf1dbe00-0a99-4008-9f16-ac33be3ac168",
   "metadata": {},
   "source": [
    "## Data Analysis"
   ]
  },
  {
   "cell_type": "markdown",
   "id": "f0d013bb-226e-4479-a12e-09b840f40ecc",
   "metadata": {},
   "source": [
    "Impact of CPU and CO2 emission on the three indices"
   ]
  },
  {
   "cell_type": "code",
   "execution_count": 73,
   "id": "54faf9c2-2488-4c77-9520-721a8b0dc086",
   "metadata": {},
   "outputs": [
    {
     "data": {
      "text/plain": [
       "\n",
       "Call:\n",
       "lm(formula = Mean_SPGB ~ Mean_cpu_index + co2 + co2:Mean_cpu_index, \n",
       "    data = research_df)\n",
       "\n",
       "Residuals:\n",
       "      1       2       3       4       5       6       7       8       9 \n",
       " 1.5573 -0.8106 -1.6728  3.0604 -3.7513  0.5369 -2.9515 -2.9612  6.9927 \n",
       "\n",
       "Coefficients:\n",
       "                     Estimate Std. Error t value Pr(>|t|)  \n",
       "(Intercept)        -6.015e+02  2.179e+02  -2.761   0.0398 *\n",
       "Mean_cpu_index      3.639e+00  9.621e-01   3.782   0.0129 *\n",
       "co2                 1.357e-01  3.978e-02   3.411   0.0190 *\n",
       "Mean_cpu_index:co2 -6.441e-04  1.759e-04  -3.662   0.0146 *\n",
       "---\n",
       "Signif. codes:  0 ‘***’ 0.001 ‘**’ 0.01 ‘*’ 0.05 ‘.’ 0.1 ‘ ’ 1\n",
       "\n",
       "Residual standard error: 4.381 on 5 degrees of freedom\n",
       "Multiple R-squared:  0.8793,\tAdjusted R-squared:  0.8069 \n",
       "F-statistic: 12.14 on 3 and 5 DF,  p-value: 0.009857\n"
      ]
     },
     "metadata": {},
     "output_type": "display_data"
    }
   ],
   "source": [
    "# Regression\n",
    "regression_1 <- lm(Mean_SPGB ~ Mean_cpu_index + co2 + co2:Mean_cpu_index, data = research_df)\n",
    "summary(regression_1)"
   ]
  },
  {
   "cell_type": "code",
   "execution_count": 76,
   "id": "ddfc5027-c6cc-487a-8f3a-02cfd3f4ce2c",
   "metadata": {
    "tags": []
   },
   "outputs": [
    {
     "data": {
      "text/plain": [
       "\n",
       "Call:\n",
       "lm(formula = Mean_SPGC ~ Mean_cpu_index + co2 + co2:Mean_cpu_index, \n",
       "    data = research_df)\n",
       "\n",
       "Residuals:\n",
       "       1        2        3        4        5        6        7        8 \n",
       "   8.857  -37.587  139.668   48.432 -161.667 -102.809 -167.720 -223.291 \n",
       "       9 \n",
       " 496.118 \n",
       "\n",
       "Coefficients:\n",
       "                     Estimate Std. Error t value Pr(>|t|)\n",
       "(Intercept)        -1.359e+04  1.378e+04  -0.986    0.370\n",
       "Mean_cpu_index      7.762e+01  6.087e+01   1.275    0.258\n",
       "co2                 2.579e+00  2.516e+00   1.025    0.352\n",
       "Mean_cpu_index:co2 -1.391e-02  1.113e-02  -1.250    0.267\n",
       "\n",
       "Residual standard error: 277.2 on 5 degrees of freedom\n",
       "Multiple R-squared:  0.5159,\tAdjusted R-squared:  0.2254 \n",
       "F-statistic: 1.776 on 3 and 5 DF,  p-value: 0.2679\n"
      ]
     },
     "metadata": {},
     "output_type": "display_data"
    }
   ],
   "source": [
    "regression_2 <- lm(Mean_SPGC ~ Mean_cpu_index + co2 + co2:Mean_cpu_index, data = research_df)\n",
    "summary(regression_2)"
   ]
  },
  {
   "cell_type": "code",
   "execution_count": 77,
   "id": "1154f4d6-c96f-4d22-ba1c-ba91b97efe8d",
   "metadata": {
    "tags": []
   },
   "outputs": [
    {
     "data": {
      "text/plain": [
       "\n",
       "Call:\n",
       "lm(formula = Mean_DJSI ~ Mean_cpu_index + co2 + co2:Mean_cpu_index, \n",
       "    data = research_df)\n",
       "\n",
       "Residuals:\n",
       "      1       2       3       4       5       6       7       8       9 \n",
       " -2.346  -7.441  15.923   4.693 -28.934  10.023 -24.124 -21.361  53.568 \n",
       "\n",
       "Coefficients:\n",
       "                     Estimate Std. Error t value Pr(>|t|)\n",
       "(Intercept)        -1.555e+03  1.601e+03  -0.971    0.376\n",
       "Mean_cpu_index      7.814e+00  7.069e+00   1.105    0.319\n",
       "co2                 2.943e-01  2.923e-01   1.007    0.360\n",
       "Mean_cpu_index:co2 -1.241e-03  1.292e-03  -0.960    0.381\n",
       "\n",
       "Residual standard error: 32.19 on 5 degrees of freedom\n",
       "Multiple R-squared:  0.814,\tAdjusted R-squared:  0.7024 \n",
       "F-statistic: 7.294 on 3 and 5 DF,  p-value: 0.0283\n"
      ]
     },
     "metadata": {},
     "output_type": "display_data"
    }
   ],
   "source": [
    "regression_3 <- lm(Mean_DJSI ~ Mean_cpu_index + co2 + co2:Mean_cpu_index, data = research_df)\n",
    "summary(regression_3)"
   ]
  },
  {
   "cell_type": "markdown",
   "id": "665b8522-35ca-45c1-af0f-4387b38b9632",
   "metadata": {},
   "source": [
    "Impact of CPU and CO2 emission from different fuel types on SPGB"
   ]
  },
  {
   "cell_type": "code",
   "execution_count": 84,
   "id": "793f85dd-440d-4086-92b3-709fcd3c8952",
   "metadata": {
    "tags": []
   },
   "outputs": [
    {
     "data": {
      "text/plain": [
       "\n",
       "Call:\n",
       "lm(formula = Mean_SPGB ~ Mean_cpu_index + coal_co2 + coal_co2:Mean_cpu_index, \n",
       "    data = research_df)\n",
       "\n",
       "Residuals:\n",
       "      1       2       3       4       5       6       7       8       9 \n",
       "-0.5929  1.7872 -2.2497 -0.3546 -4.4111  5.5460 -2.3759 -3.7313  6.3823 \n",
       "\n",
       "Coefficients:\n",
       "                          Estimate Std. Error t value Pr(>|t|)  \n",
       "(Intercept)             26.8954334 46.9500977   0.573   0.5915  \n",
       "Mean_cpu_index           0.7212312  0.1919901   3.757   0.0132 *\n",
       "coal_co2                 0.0717497  0.0260032   2.759   0.0399 *\n",
       "Mean_cpu_index:coal_co2 -0.0004010  0.0001413  -2.838   0.0363 *\n",
       "---\n",
       "Signif. codes:  0 ‘***’ 0.001 ‘**’ 0.01 ‘*’ 0.05 ‘.’ 0.1 ‘ ’ 1\n",
       "\n",
       "Residual standard error: 4.884 on 5 degrees of freedom\n",
       "Multiple R-squared:   0.85,\tAdjusted R-squared:  0.7601 \n",
       "F-statistic: 9.447 on 3 and 5 DF,  p-value: 0.01676\n"
      ]
     },
     "metadata": {},
     "output_type": "display_data"
    }
   ],
   "source": [
    "regression_4 <- lm(Mean_SPGB ~ Mean_cpu_index + coal_co2 + coal_co2:Mean_cpu_index, data = research_df)\n",
    "summary(regression_4)"
   ]
  },
  {
   "cell_type": "code",
   "execution_count": 85,
   "id": "370669cd-1f91-4b11-8e6d-35c541383a9a",
   "metadata": {
    "tags": []
   },
   "outputs": [
    {
     "data": {
      "text/plain": [
       "\n",
       "Call:\n",
       "lm(formula = Mean_SPGB ~ Mean_cpu_index + oil_co2 + oil_co2:Mean_cpu_index, \n",
       "    data = research_df)\n",
       "\n",
       "Residuals:\n",
       "      1       2       3       4       5       6       7       8       9 \n",
       "-0.5422  4.7181 -2.6478 -3.4707 -7.2593  6.8306 -2.6657 -1.7220  6.7590 \n",
       "\n",
       "Coefficients:\n",
       "                         Estimate Std. Error t value Pr(>|t|)\n",
       "(Intercept)             7.055e+02  3.563e+02   1.980    0.105\n",
       "Mean_cpu_index         -2.405e+00  1.817e+00  -1.324    0.243\n",
       "oil_co2                -2.522e-01  1.583e-01  -1.593    0.172\n",
       "Mean_cpu_index:oil_co2  1.129e-03  8.127e-04   1.389    0.223\n",
       "\n",
       "Residual standard error: 6.272 on 5 degrees of freedom\n",
       "Multiple R-squared:  0.7526,\tAdjusted R-squared:  0.6042 \n",
       "F-statistic:  5.07 on 3 and 5 DF,  p-value: 0.05624\n"
      ]
     },
     "metadata": {},
     "output_type": "display_data"
    }
   ],
   "source": [
    "regression_5 <- lm(Mean_SPGB ~ Mean_cpu_index + oil_co2 + oil_co2:Mean_cpu_index, data = research_df)\n",
    "summary(regression_5)"
   ]
  },
  {
   "cell_type": "code",
   "execution_count": 86,
   "id": "7585b207-0afe-4f4e-9727-d071fab30b6c",
   "metadata": {
    "tags": []
   },
   "outputs": [
    {
     "data": {
      "text/plain": [
       "\n",
       "Call:\n",
       "lm(formula = Mean_SPGB ~ Mean_cpu_index + gas_co2 + gas_co2:Mean_cpu_index, \n",
       "    data = research_df)\n",
       "\n",
       "Residuals:\n",
       "      1       2       3       4       5       6       7       8       9 \n",
       " 0.1072  4.5125 -4.2831 -3.0829 -0.6758  5.0615 -5.8315 -2.6345  6.8266 \n",
       "\n",
       "Coefficients:\n",
       "                         Estimate Std. Error t value Pr(>|t|)  \n",
       "(Intercept)             4.220e+02  1.357e+02   3.109   0.0266 *\n",
       "Mean_cpu_index         -1.843e+00  8.147e-01  -2.262   0.0732 .\n",
       "gas_co2                -1.896e-01  9.233e-02  -2.053   0.0952 .\n",
       "Mean_cpu_index:gas_co2  1.283e-03  5.338e-04   2.403   0.0614 .\n",
       "---\n",
       "Signif. codes:  0 ‘***’ 0.001 ‘**’ 0.01 ‘*’ 0.05 ‘.’ 0.1 ‘ ’ 1\n",
       "\n",
       "Residual standard error: 5.689 on 5 degrees of freedom\n",
       "Multiple R-squared:  0.7965,\tAdjusted R-squared:  0.6744 \n",
       "F-statistic: 6.522 on 3 and 5 DF,  p-value: 0.03518\n"
      ]
     },
     "metadata": {},
     "output_type": "display_data"
    }
   ],
   "source": [
    "regression_6 <- lm(Mean_SPGB ~ Mean_cpu_index + gas_co2 + gas_co2:Mean_cpu_index, data = research_df)\n",
    "summary(regression_6)"
   ]
  },
  {
   "cell_type": "code",
   "execution_count": 89,
   "id": "d2bd69c4-5025-4254-9af7-2138891e1c2c",
   "metadata": {
    "tags": []
   },
   "outputs": [
    {
     "data": {
      "text/plain": [
       "\n",
       "Call:\n",
       "lm(formula = Mean_SPGB ~ Mean_cpu_index + flaring_co2 + flaring_co2:Mean_cpu_index, \n",
       "    data = research_df)\n",
       "\n",
       "Residuals:\n",
       "      1       2       3       4       5       6       7       8       9 \n",
       " 6.0036  7.6354 -5.2938 -6.7271 -8.3391 -0.8804 -4.2464  2.1509  9.6968 \n",
       "\n",
       "Coefficients:\n",
       "                             Estimate Std. Error t value Pr(>|t|)\n",
       "(Intercept)                 1.407e+02  1.194e+02   1.178    0.292\n",
       "Mean_cpu_index              9.817e-02  7.012e-01   0.140    0.894\n",
       "flaring_co2                -7.730e-02  1.889e+00  -0.041    0.969\n",
       "Mean_cpu_index:flaring_co2  5.251e-04  1.086e-02   0.048    0.963\n",
       "\n",
       "Residual standard error: 8.422 on 5 degrees of freedom\n",
       "Multiple R-squared:  0.554,\tAdjusted R-squared:  0.2865 \n",
       "F-statistic: 2.071 on 3 and 5 DF,  p-value: 0.2228\n"
      ]
     },
     "metadata": {},
     "output_type": "display_data"
    }
   ],
   "source": [
    "regression_7 <- lm(Mean_SPGB ~ Mean_cpu_index + flaring_co2 + flaring_co2:Mean_cpu_index, data = research_df)\n",
    "summary(regression_7)"
   ]
  }
 ],
 "metadata": {
  "kernelspec": {
   "display_name": "R",
   "language": "R",
   "name": "ir"
  },
  "language_info": {
   "codemirror_mode": "r",
   "file_extension": ".r",
   "mimetype": "text/x-r-source",
   "name": "R",
   "pygments_lexer": "r",
   "version": "4.2.3"
  }
 },
 "nbformat": 4,
 "nbformat_minor": 5
}
